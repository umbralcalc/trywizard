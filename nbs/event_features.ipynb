{
 "cells": [
  {
   "cell_type": "markdown",
   "id": "c014d7ea",
   "metadata": {},
   "source": [
    "# Building event features\n",
    "\n",
    "> These are Go notebooks: In order to use the GoNB Jupyter Kernel, please install GoNB from here: https://github.com/janpfeifer/gonb\n",
    "\n",
    "Note also that for local package development, you can put: `!*go mod edit -replace \"github.com/umbralcalc/trywizard=/path/to/trywizard\"` at the top of any cell.\n",
    "\n",
    "In this notebook we're building event features from local csv files which aggregate information over all the data sources listed in the `README.md`."
   ]
  },
  {
   "cell_type": "code",
   "execution_count": null,
   "id": "826775b0",
   "metadata": {},
   "outputs": [],
   "source": [
    "import (\n",
    "\t\"os\"\n",
    "\t\"github.com/go-gota/gota/dataframe\"\n",
    "\t\"github.com/go-echarts/go-echarts/v2/charts\"\n",
    "\t\"github.com/go-echarts/go-echarts/v2/opts\"\n",
    "\tgonb_echarts \"github.com/janpfeifer/gonb-echarts\"\n",
    ")\n",
    "\n",
    "%%\n",
    "\n",
    "// Retrieving from csv\n",
    "file, _ := os.Open(\"../dat/events.csv\")\n",
    "df := dataframe.ReadCSV(file)\n",
    "\n",
    "// Grouping event counts by time\n",
    "timeStrs := df.Col(\"time\").Records()\n",
    "timeInts := make([]int, len(timeStrs))\n",
    "for i, t := range timeStrs {\n",
    "\tval, err := strconv.Atoi(t[0:len(t)-1])\n",
    "\tif err != nil {\n",
    "\t\tpanic(err)\n",
    "\t}\n",
    "\ttimeInts[i] = val\n",
    "}\n",
    "df = df.Mutate(series.New(series.Ints(timeInts), series.Int, \"time_ints\"))\n",
    "gdf := df.GroupBy(\"time_ints\").Aggregation(\n",
    "\t[]dataframe.AggregationType{\n",
    "\t\tdataframe.Aggregation_COUNT,\n",
    "\t},\n",
    "\t[]string{\"event_type\"},\n",
    ")\n",
    "gdf = gdf.Arrange(\n",
    "    dataframe.Sort(\"time_ints\"),\n",
    ")\n",
    "fmt.Println(gdf)\n",
    "\n",
    "// Plotting the event counts by time\n",
    "scatter := charts.NewScatter()\n",
    "scatter.SetGlobalOptions(\n",
    "\tcharts.WithXAxisOpts(opts.XAxis{\n",
    "\t\tName: \"time_ints\",\n",
    "\t}),\n",
    "\tcharts.WithTooltipOpts(opts.Tooltip{\n",
    "\t\tTrigger:   \"item\",\n",
    "\t\tFormatter: \"({c})\",\n",
    "\t}),\n",
    ")\n",
    "xValues, _ := gdf.Col(\"time_ints\").Int()\n",
    "plotData := make([]opts.ScatterData, 0)\n",
    "for j, yYalue := range gdf.Col(\"event_type_COUNT\").Float() {\n",
    "\tplotData = append(plotData, opts.ScatterData{\n",
    "\t\tValue: []interface{}{xValues[j], yYalue},\n",
    "\t})\n",
    "}\n",
    "scatter.AddSeries(\"event counts\", plotData)\n",
    "gonb_echarts.Display(scatter, \"width: 1024px; height:400px; background: white;\")"
   ]
  },
  {
   "cell_type": "code",
   "execution_count": null,
   "id": "2956ec4a",
   "metadata": {},
   "outputs": [],
   "source": []
  }
 ],
 "metadata": {
  "kernelspec": {
   "display_name": "Go (gonb)",
   "language": "go",
   "name": "gonb"
  },
  "language_info": {
   "codemirror_mode": "",
   "file_extension": ".go",
   "mimetype": "text/x-go",
   "name": "go",
   "nbconvert_exporter": "",
   "pygments_lexer": "",
   "version": "go1.24.4"
  }
 },
 "nbformat": 4,
 "nbformat_minor": 5
}
