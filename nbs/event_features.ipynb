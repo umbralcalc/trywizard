{
 "cells": [
  {
   "cell_type": "markdown",
   "id": "c014d7ea",
   "metadata": {},
   "source": [
    "# Building event features\n",
    "\n",
    "> These are Go notebooks: In order to use the GoNB Jupyter Kernel, please install GoNB from here: https://github.com/janpfeifer/gonb\n",
    "\n",
    "Note also that for local package development, you can put: `!*go mod edit -replace \"github.com/umbralcalc/trywizard=/path/to/trywizard\"` at the top of any cell.\n",
    "\n",
    "In this notebook we're building event features from local csv files which aggregate information over all the data sources listed in the `README.md`."
   ]
  },
  {
   "cell_type": "code",
   "execution_count": null,
   "id": "8f5282c4",
   "metadata": {},
   "outputs": [],
   "source": [
    "!*go mod edit -replace \"github.com/umbralcalc/trywizard=/home/robert/Code/trywizard\""
   ]
  },
  {
   "cell_type": "code",
   "execution_count": null,
   "id": "826775b0",
   "metadata": {},
   "outputs": [],
   "source": [
    "import (\n",
    "\t\"os\"\n",
    "\t\"github.com/umbralcalc/trywizard/pkg/features\"\n",
    "\tgonb_echarts \"github.com/janpfeifer/gonb-echarts\"\n",
    ")\n",
    "\n",
    "%%\n",
    "\n",
    "df := features.GetRawEventsDataFrame()\n",
    "cdf := features.TransformToEventCounts(&df)\n",
    "scatter := features.NewDataFrameScatter(\n",
    "\t&cdf, \n",
    "\t\"minute\", \n",
    "\t\"event_type_COUNT\",\n",
    "\t\"event_type\",\n",
    ")\n",
    "\n",
    "gonb_echarts.Display(scatter, \"width: 1024px; height:400px; background: white;\")\n"
   ]
  },
  {
   "cell_type": "code",
   "execution_count": null,
   "id": "2956ec4a",
   "metadata": {},
   "outputs": [],
   "source": []
  }
 ],
 "metadata": {
  "kernelspec": {
   "display_name": "Go (gonb)",
   "language": "go",
   "name": "gonb"
  },
  "language_info": {
   "codemirror_mode": "",
   "file_extension": ".go",
   "mimetype": "text/x-go",
   "name": "go",
   "nbconvert_exporter": "",
   "pygments_lexer": "",
   "version": "go1.24.4"
  }
 },
 "nbformat": 4,
 "nbformat_minor": 5
}
