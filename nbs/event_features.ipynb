{
 "cells": [
  {
   "cell_type": "markdown",
   "id": "c014d7ea",
   "metadata": {},
   "source": [
    "# Building event features\n",
    "\n",
    "> These are Go notebooks: In order to use the GoNB Jupyter Kernel, please install GoNB from here: https://github.com/janpfeifer/gonb\n",
    "\n",
    "Note also that for local package development, you can put: `!*go mod edit -replace \"github.com/umbralcalc/trywizard=/path/to/trywizard\"` at the top of any cell.\n",
    "\n",
    "In this notebook we're building event features from local csv files which aggregate information over all the data sources listed in the `README.md`."
   ]
  },
  {
   "cell_type": "code",
   "execution_count": null,
   "id": "8f5282c4",
   "metadata": {},
   "outputs": [],
   "source": [
    "!*go mod edit -replace \"github.com/umbralcalc/trywizard=/home/robert/Code/trywizard\""
   ]
  },
  {
   "cell_type": "code",
   "execution_count": null,
   "id": "826775b0",
   "metadata": {},
   "outputs": [],
   "source": [
    "import (\n",
    "\t\"os\"\n",
    "\t\"github.com/umbralcalc/trywizard/pkg/features\"\n",
    "\t\"github.com/go-gota/gota/series\"\n",
    "\t\"github.com/go-gota/gota/dataframe\"\n",
    "\t\"github.com/go-echarts/go-echarts/v2/charts\"\n",
    "\t\"github.com/go-echarts/go-echarts/v2/opts\"\n",
    "\tgonb_echarts \"github.com/janpfeifer/gonb-echarts\"\n",
    ")\n",
    "\n",
    "%%\n",
    "\n",
    "scatter := charts.NewScatter()\n",
    "scatter.SetGlobalOptions(\n",
    "\tcharts.WithXAxisOpts(opts.XAxis{\n",
    "\t\tName: \"minute\",\n",
    "\t}),\n",
    "\tcharts.WithTooltipOpts(opts.Tooltip{\n",
    "\t\tTrigger:   \"item\",\n",
    "\t\tFormatter: \"({c})\",\n",
    "\t}),\n",
    ")\n",
    "\n",
    "df := features.GetRawEventsDataFrame()\n",
    "cdf := features.TransformToEventCounts(&df)\n",
    "for _, eventType := range features.GetUniqueEventTypes(&df) {\n",
    "\tpoints := make([]opts.ScatterData, 0)\n",
    "\tfdf := cdf.Filter(dataframe.F{\n",
    "\t\tColname:    \"event_type\",\n",
    "\t\tComparator: series.Eq,\n",
    "\t\tComparando: eventType,\n",
    "\t})\n",
    "\tminutes, _ := fdf.Col(\"minute\").Int()\n",
    "\tcounts := fdf.Col(\"event_type_COUNT\").Float()\n",
    "\tfor i, minute := range minutes {\n",
    "\t\tpoints = append(points, opts.ScatterData{\n",
    "\t\t\tValue: []interface{}{minute, counts[i]},\n",
    "\t\t})\n",
    "\t}\n",
    "\n",
    "\tscatter.AddSeries(eventType, points)\n",
    "}\n",
    "\n",
    "gonb_echarts.Display(scatter, \"width: 1024px; height:400px; background: white;\")"
   ]
  },
  {
   "cell_type": "code",
   "execution_count": null,
   "id": "2956ec4a",
   "metadata": {},
   "outputs": [],
   "source": []
  }
 ],
 "metadata": {
  "kernelspec": {
   "display_name": "Go (gonb)",
   "language": "go",
   "name": "gonb"
  },
  "language_info": {
   "codemirror_mode": "",
   "file_extension": ".go",
   "mimetype": "text/x-go",
   "name": "go",
   "nbconvert_exporter": "",
   "pygments_lexer": "",
   "version": "go1.24.4"
  }
 },
 "nbformat": 4,
 "nbformat_minor": 5
}
