{
 "cells": [
  {
   "cell_type": "markdown",
   "id": "d9e0bbb7",
   "metadata": {},
   "source": [
    "# ESPN scraping\n",
    "\n",
    "Taking a look at the match summary data."
   ]
  },
  {
   "cell_type": "code",
   "execution_count": null,
   "id": "dd4b1ce4",
   "metadata": {},
   "outputs": [],
   "source": [
    "import (\n",
    "  \"github.com/umbralcalc/trywizard/pkg/espn\"\n",
    ")\n",
    "\n",
    "%% \n",
    "\n",
    "gameIDs := []string{\"600014\"}\n",
    "\n",
    "for _, gid := range gameIDs {\n",
    "  sum, err := espn.FetchPremiershipSummary(gid)\n",
    "  if err != nil {\n",
    "    log.Printf(\"Error fetching %s: %v\\n\", gid, err)\n",
    "    continue\n",
    "  }\n",
    "  fmt.Printf(\"=== Rosters for game %s ===\\n\", gid)\n",
    "  for _, r := range sum.Rosters {\n",
    "    for _, player := range r.Roster {\n",
    "      fmt.Println(r.HomeAway, player)\n",
    "    }\n",
    "  }\n",
    "  fmt.Printf(\"=== Events for game %s ===\\n\", gid)\n",
    "  for _, e := range sum.Header.Competitions[0].Details {\n",
    "    fmt.Println(e)\n",
    "  }\n",
    "  fmt.Println()\n",
    "}"
   ]
  },
  {
   "cell_type": "code",
   "execution_count": null,
   "id": "2ded9802",
   "metadata": {},
   "outputs": [],
   "source": [
    "import (\n",
    "  \"github.com/umbralcalc/trywizard/pkg/espn\"\n",
    ")\n",
    "\n",
    "%% \n",
    "\n",
    "gameIDs := []string{\"600014\"}\n",
    "\n",
    "for _, gid := range gameIDs {\n",
    "  sum, err := espn.FetchPremiershipSummary(gid)\n",
    "  if err != nil {\n",
    "    log.Printf(\"Error fetching %s: %v\\n\", gid, err)\n",
    "    continue\n",
    "  }\n",
    "  df := espn.EventsDataFrameFromSummary(sum)\n",
    "  fmt.Println(df)\n",
    "}"
   ]
  },
  {
   "cell_type": "code",
   "execution_count": null,
   "id": "e3e58887",
   "metadata": {},
   "outputs": [],
   "source": [
    "import (\n",
    "  \"github.com/umbralcalc/trywizard/pkg/espn\"\n",
    ")\n",
    "\n",
    "%% \n",
    "\n",
    "gameIDs := []string{\"600014\"}\n",
    "\n",
    "for _, gid := range gameIDs {\n",
    "  sum, err := espn.FetchPremiershipSummary(gid)\n",
    "  if err != nil {\n",
    "    log.Printf(\"Error fetching %s: %v\\n\", gid, err)\n",
    "    continue\n",
    "  }\n",
    "  df := espn.PlayersDataFrameFromSummary(sum)\n",
    "  fmt.Println(df)\n",
    "}"
   ]
  },
  {
   "cell_type": "code",
   "execution_count": null,
   "id": "8a380393",
   "metadata": {},
   "outputs": [],
   "source": []
  }
 ],
 "metadata": {
  "kernelspec": {
   "display_name": "Go (gonb)",
   "language": "go",
   "name": "gonb"
  },
  "language_info": {
   "codemirror_mode": "",
   "file_extension": ".go",
   "mimetype": "text/x-go",
   "name": "go",
   "nbconvert_exporter": "",
   "pygments_lexer": "",
   "version": "go1.24.4"
  }
 },
 "nbformat": 4,
 "nbformat_minor": 5
}
