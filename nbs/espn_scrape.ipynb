{
 "cells": [
  {
   "cell_type": "markdown",
   "id": "d9e0bbb7",
   "metadata": {},
   "source": [
    "# ESPN scraping\n",
    "\n",
    "Taking a look at the match commentary data."
   ]
  },
  {
   "cell_type": "code",
   "execution_count": 3,
   "id": "fb06e301",
   "metadata": {},
   "outputs": [],
   "source": [
    "!*go mod edit -replace \"github.com/umbralcalc/trywizard=/home/robert/Code/trywizard\""
   ]
  },
  {
   "cell_type": "code",
   "execution_count": 6,
   "id": "dd4b1ce4",
   "metadata": {},
   "outputs": [
    {
     "name": "stdout",
     "output_type": "stream",
     "text": [
      "=== Events for game 600014 ===\n",
      "{0 {1 try} 5 0 {1} {307 6'} {0 6'} {25903  s:300~t:25903 Leicester Tigers LEICS Leicester Tigers   [] []} [{{296838 Jack van Poortvliet}}]}\n",
      "{0 {2 conversion} 7 0 {1} {359 6'} {0 6'} {25903  s:300~t:25903 Leicester Tigers LEICS Leicester Tigers   [] []} [{{165132 Handre Pollard}}]}\n",
      "{0 {3 penalty goal} 7 3 {1} {549 10'} {0 10'} {25898  s:300~t:25898 Bath Rugby BATH Bath Rugby   [] []} [{{158721 Finn Russell}}]}\n",
      "{0 {1 try} 7 8 {1} {1600 27'} {0 27'} {25898  s:300~t:25898 Bath Rugby BATH Bath Rugby   [] []} [{{227779 Thomas du Toit}}]}\n",
      "{0 {2 conversion} 7 10 {1} {1657 28'} {0 28'} {25898  s:300~t:25898 Bath Rugby BATH Bath Rugby   [] []} [{{158721 Finn Russell}}]}\n",
      "{0 {5 yellow card} 7 10 {1} {1700 29'} {0 29'} {25903  s:300~t:25903 Leicester Tigers LEICS Leicester Tigers   [] []} [{{226027 Julian Montoya}}]}\n",
      "{0 {7 player substituted} 7 10 {1} {1794 30'} {0 30'} {25903  s:300~t:25903 Leicester Tigers LEICS Leicester Tigers   [] []} [{{290928 Tommy Reffell}}]}\n",
      "{0 {8 substitute on} 7 10 {1} {1794 30'} {0 30'} {25903  s:300~t:25903 Leicester Tigers LEICS Leicester Tigers   [] []} [{{246163 Charlie Clare}}]}\n",
      "{0 {7 player substituted} 7 10 {1} {2368 40'} {0 40'} {25903  s:300~t:25903 Leicester Tigers LEICS Leicester Tigers   [] []} [{{246163 Charlie Clare}}]}\n",
      "{0 {8 substitute on} 7 10 {1} {2368 40'} {0 40'} {25903  s:300~t:25903 Leicester Tigers LEICS Leicester Tigers   [] []} [{{290928 Tommy Reffell}}]}\n",
      "{0 {3 penalty goal} 7 13 {1} {2468 42'} {0 42'} {25898  s:300~t:25898 Bath Rugby BATH Bath Rugby   [] []} [{{158721 Finn Russell}}]}\n",
      "{0 {1 try} 7 18 {2} {2969 50'} {0 50'} {25898  s:300~t:25898 Bath Rugby BATH Bath Rugby   [] []} [{{296821 Max Ojomoh}}]}\n",
      "{0 {2 conversion} 7 20 {2} {3018 51'} {0 51'} {25898  s:300~t:25898 Bath Rugby BATH Bath Rugby   [] []} [{{158721 Finn Russell}}]}\n",
      "{0 {7 player substituted} 7 20 {2} {3044 51'} {0 51'} {25903  s:300~t:25903 Leicester Tigers LEICS Leicester Tigers   [] []} [{{301431 Joseph Woodward}}]}\n",
      "{0 {8 substitute on} 7 20 {2} {3044 51'} {0 51'} {25903  s:300~t:25903 Leicester Tigers LEICS Leicester Tigers   [] []} [{{272291 Izaia Perese}}]}\n",
      "{0 {7 player substituted} 7 20 {2} {3295 55'} {0 55'} {25903  s:300~t:25903 Leicester Tigers LEICS Leicester Tigers   [] []} [{{296838 Jack van Poortvliet}}]}\n",
      "{0 {8 substitute on} 7 20 {2} {3295 55'} {0 55'} {25903  s:300~t:25903 Leicester Tigers LEICS Leicester Tigers   [] []} [{{27263 Ben Youngs}}]}\n",
      "{0 {7 player substituted} 7 20 {2} {3296 55'} {0 55'} {25903  s:300~t:25903 Leicester Tigers LEICS Leicester Tigers   [] []} [{{290928 Tommy Reffell}}]}\n",
      "{0 {8 substitute on} 7 20 {2} {3296 55'} {0 55'} {25903  s:300~t:25903 Leicester Tigers LEICS Leicester Tigers   [] []} [{{301429 Emeka Ilione}}]}\n",
      "{0 {7 player substituted} 7 20 {2} {3693 62'} {0 62'} {25898  s:300~t:25898 Bath Rugby BATH Bath Rugby   [] []} [{{294406 Miles Reid}}]}\n",
      "{0 {8 substitute on} 7 20 {2} {3693 62'} {0 62'} {25898  s:300~t:25898 Bath Rugby BATH Bath Rugby   [] []} [{{295278 Alfie Barbeary}}]}\n",
      "{0 {7 player substituted} 7 20 {2} {3694 62'} {0 62'} {25898  s:300~t:25898 Bath Rugby BATH Bath Rugby   [] []} [{{146491 Quinn Roux}}]}\n",
      "{0 {8 substitute on} 7 20 {2} {3694 62'} {0 62'} {25898  s:300~t:25898 Bath Rugby BATH Bath Rugby   [] []} [{{290459 Josh Bayliss}}]}\n",
      "{0 {7 player substituted} 7 20 {2} {3695 62'} {0 62'} {25898  s:300~t:25898 Bath Rugby BATH Bath Rugby   [] []} [{{254479 Beno Obano}}]}\n",
      "{0 {8 substitute on} 7 20 {2} {3695 62'} {0 62'} {25898  s:300~t:25898 Bath Rugby BATH Bath Rugby   [] []} [{{226759 Francois van Wyk}}]}\n",
      "{0 {7 player substituted} 7 20 {2} {3696 62'} {0 62'} {25898  s:300~t:25898 Bath Rugby BATH Bath Rugby   [] []} [{{227779 Thomas du Toit}}]}\n",
      "{0 {8 substitute on} 7 20 {2} {3696 62'} {0 62'} {25898  s:300~t:25898 Bath Rugby BATH Bath Rugby   [] []} [{{285791 Will Stuart}}]}\n",
      "{0 {7 player substituted} 7 20 {2} {3787 64'} {0 64'} {25903  s:300~t:25903 Leicester Tigers LEICS Leicester Tigers   [] []} [{{294374 Joe Heyes}}]}\n",
      "{0 {8 substitute on} 7 20 {2} {3787 64'} {0 64'} {25903  s:300~t:25903 Leicester Tigers LEICS Leicester Tigers   [] []} [{{27796 Dan Cole}}]}\n",
      "{0 {1 try} 12 20 {2} {4059 68'} {0 68'} {25903  s:300~t:25903 Leicester Tigers LEICS Leicester Tigers   [] []} [{{296974 Solomone Kata}}]}\n",
      "{0 {2 conversion} 14 20 {2} {4090 69'} {0 69'} {25903  s:300~t:25903 Leicester Tigers LEICS Leicester Tigers   [] []} [{{165132 Handre Pollard}}]}\n",
      "{0 {7 player substituted} 14 20 {2} {4123 69'} {0 69'} {25898  s:300~t:25898 Bath Rugby BATH Bath Rugby   [] []} [{{174270 Tom Dunn}}]}\n",
      "{0 {8 substitute on} 14 20 {2} {4123 69'} {0 69'} {25898  s:300~t:25898 Bath Rugby BATH Bath Rugby   [] []} [{{116751 Niall Annett}}]}\n",
      "{0 {7 player substituted} 14 20 {2} {4124 69'} {0 69'} {25898  s:300~t:25898 Bath Rugby BATH Bath Rugby   [] []} [{{212571 Charlie Ewels}}]}\n",
      "{0 {8 substitute on} 14 20 {2} {4124 69'} {0 69'} {25898  s:300~t:25898 Bath Rugby BATH Bath Rugby   [] []} [{{212599 Ross Molony}}]}\n",
      "{0 {7 player substituted} 14 20 {2} {4125 69'} {0 69'} {25903  s:300~t:25903 Leicester Tigers LEICS Leicester Tigers   [] []} [{{172276 Nicky Smith}}]}\n",
      "{0 {8 substitute on} 14 20 {2} {4125 69'} {0 69'} {25903  s:300~t:25903 Leicester Tigers LEICS Leicester Tigers   [] []} [{{180368 James Cronin}}]}\n",
      "{0 {5 yellow card} 14 20 {2} {4171 70'} {0 70'} {25903  s:300~t:25903 Leicester Tigers LEICS Leicester Tigers   [] []} [{{27796 Dan Cole}}]}\n",
      "{0 {3 penalty goal} 14 23 {2} {4236 71'} {0 71'} {25898  s:300~t:25898 Bath Rugby BATH Bath Rugby   [] []} [{{158721 Finn Russell}}]}\n",
      "{0 {7 player substituted} 14 23 {2} {4301 72'} {0 72'} {25903  s:300~t:25903 Leicester Tigers LEICS Leicester Tigers   [] []} [{{217807 Olly Cracknell}}]}\n",
      "{0 {8 substitute on} 14 23 {2} {4301 72'} {0 72'} {25903  s:300~t:25903 Leicester Tigers LEICS Leicester Tigers   [] []} [{{289380 Matt Rogerson}}]}\n",
      "{0 {1 try} 19 23 {2} {4528 76'} {0 76'} {25903  s:300~t:25903 Leicester Tigers LEICS Leicester Tigers   [] []} [{{301429 Emeka Ilione}}]}\n",
      "{0 {2 conversion} 21 23 {2} {4569 77'} {0 77'} {25903  s:300~t:25903 Leicester Tigers LEICS Leicester Tigers   [] []} [{{165132 Handre Pollard}}]}\n",
      "\n"
     ]
    }
   ],
   "source": [
    "import (\n",
    "  \"github.com/umbralcalc/trywizard/pkg/espn\"\n",
    ")\n",
    "\n",
    "%% \n",
    "\n",
    "// TODO: load/derive list of gameIDs for this season\n",
    "gameIDs := []string{\"600014\"}\n",
    "\n",
    "for _, gid := range gameIDs {\n",
    "  events, err := espn.FetchEvents(gid)\n",
    "  if err != nil {\n",
    "    log.Printf(\"Error fetching %s: %v\\n\", gid, err)\n",
    "    continue\n",
    "  }\n",
    "  fmt.Printf(\"=== Events for game %s ===\\n\", gid)\n",
    "  for _, e := range events {\n",
    "    fmt.Println(e)\n",
    "  }\n",
    "  fmt.Println()\n",
    "}"
   ]
  },
  {
   "cell_type": "code",
   "execution_count": null,
   "id": "2ded9802",
   "metadata": {},
   "outputs": [],
   "source": []
  }
 ],
 "metadata": {
  "kernelspec": {
   "display_name": "Go (gonb)",
   "language": "go",
   "name": "gonb"
  },
  "language_info": {
   "codemirror_mode": "",
   "file_extension": ".go",
   "mimetype": "text/x-go",
   "name": "go",
   "nbconvert_exporter": "",
   "pygments_lexer": "",
   "version": "go1.24.4"
  }
 },
 "nbformat": 4,
 "nbformat_minor": 5
}
