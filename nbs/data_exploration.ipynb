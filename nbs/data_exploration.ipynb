{
 "cells": [
  {
   "cell_type": "markdown",
   "id": "ada0f7ba",
   "metadata": {},
   "source": [
    "# Data exploration\n",
    "\n",
    "> These are Go notebooks: In order to use the GoNB Jupyter Kernel, please install GoNB from here: https://github.com/janpfeifer/gonb\n",
    "\n",
    "Note also that for local package development, you can put: `!*go mod edit -replace \"github.com/umbralcalc/trywizard=/path/to/trywizard\"` at the top of any cell.\n",
    "\n",
    "In this notebook we're exploring the data queried from the SportDevs API."
   ]
  },
  {
   "cell_type": "code",
   "execution_count": null,
   "id": "d72e2c42",
   "metadata": {},
   "outputs": [],
   "source": [
    "import \"github.com/umbralcalc/trywizard/pkg/sportdevs\"\n",
    "\n",
    "%%\n",
    "\n",
    "fmt.Println(sportdevs.FetchMatchList())"
   ]
  },
  {
   "cell_type": "code",
   "execution_count": null,
   "id": "a5f0fd07",
   "metadata": {},
   "outputs": [],
   "source": [
    "import \"github.com/umbralcalc/trywizard/pkg/sportdevs\"\n",
    "\n",
    "%%\n",
    "\n",
    "// Nothing from here...\n",
    "fmt.Println(sportdevs.FetchMatchIncidents(7))"
   ]
  },
  {
   "cell_type": "code",
   "execution_count": null,
   "id": "007af31a",
   "metadata": {},
   "outputs": [],
   "source": [
    "import \"github.com/umbralcalc/trywizard/pkg/sportdevs\"\n",
    "\n",
    "%%\n",
    "\n",
    "fmt.Println(sportdevs.FetchMatchStatistics(2))"
   ]
  },
  {
   "cell_type": "code",
   "execution_count": null,
   "id": "af5b4a9f",
   "metadata": {},
   "outputs": [],
   "source": [
    "import \"github.com/umbralcalc/trywizard/pkg/sportdevs\"\n",
    "\n",
    "%%\n",
    "\n",
    "// Nothing from here...\n",
    "fmt.Println(sportdevs.FetchMatchPlayersStatistics(2))"
   ]
  },
  {
   "cell_type": "code",
   "execution_count": null,
   "id": "a9719b31",
   "metadata": {},
   "outputs": [],
   "source": [
    "import \"github.com/umbralcalc/trywizard/pkg/sportdevs\"\n",
    "\n",
    "%%\n",
    "\n",
    "// Nothing from here...\n",
    "fmt.Println(sportdevs.FetchMatchLineups(2))"
   ]
  },
  {
   "cell_type": "code",
   "execution_count": null,
   "id": "33bad33e",
   "metadata": {},
   "outputs": [],
   "source": []
  }
 ],
 "metadata": {
  "kernelspec": {
   "display_name": "Go (gonb)",
   "language": "go",
   "name": "gonb"
  },
  "language_info": {
   "codemirror_mode": "",
   "file_extension": ".go",
   "mimetype": "text/x-go",
   "name": "go",
   "nbconvert_exporter": "",
   "pygments_lexer": "",
   "version": "go1.24.4"
  }
 },
 "nbformat": 4,
 "nbformat_minor": 5
}
