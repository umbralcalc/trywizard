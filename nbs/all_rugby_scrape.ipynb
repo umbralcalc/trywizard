{
 "cells": [
  {
   "cell_type": "markdown",
   "id": "918acaf2",
   "metadata": {},
   "source": [
    "# all.rugby scraping\n",
    "\n",
    "Taking a look at the data here: [https://all.rugby/tournament/premiership/fixtures-results](https://all.rugby/tournament/premiership/fixtures-results)."
   ]
  },
  {
   "cell_type": "markdown",
   "id": "f185a1a3",
   "metadata": {},
   "source": [
    "<!-- import (\n",
    "    \"fmt\"\n",
    "    \"log\"\n",
    "    \"github.com/gocolly/colly\"\n",
    ")\n",
    "\n",
    "%%\n",
    "\n",
    "c := colly.NewCollector(\n",
    "    colly.AllowedDomains(\"all.rugby\"),\n",
    ")\n",
    "\n",
    "// Slice to store each match's data\n",
    "type Match struct {\n",
    "    Date       string\n",
    "    Home       string\n",
    "    Away       string\n",
    "    Score      string\n",
    "    ReportURL  string\n",
    "}\n",
    "var matches []Match\n",
    "\n",
    "// Scrape each fixture block\n",
    "c.OnHTML(\"div.fixture-row\", func(e *colly.HTMLElement) {\n",
    "    m := Match{}\n",
    "\n",
    "    m.Date = e.ChildText(\"span.fixture-date\")\n",
    "    m.Home = e.ChildText(\"span.team-home\")\n",
    "    m.Away = e.ChildText(\"span.team-away\")\n",
    "    m.Score = e.ChildText(\"span.final-score\")\n",
    "\n",
    "    link := e.ChildAttr(\"a.report-link\", \"href\")\n",
    "    if link != \"\" {\n",
    "        m.ReportURL = e.Request.AbsoluteURL(link)\n",
    "    }\n",
    "\n",
    "    matches = append(matches, m)\n",
    "})\n",
    "\n",
    "// Visit the fixtures page\n",
    "err := c.Visit(\"https://all.rugby/tournament/premiership/fixtures-results\")\n",
    "if err != nil {\n",
    "    log.Fatal(err)\n",
    "}\n",
    "\n",
    "// Print the results\n",
    "for _, m := range matches {\n",
    "    fmt.Printf(\"%s | %s vs %s | %s\\nReport: %s\\n\\n\", m.Date, m.Home, m.Away, m.Score, m.ReportURL)\n",
    "} -->"
   ]
  }
 ],
 "metadata": {
  "kernelspec": {
   "display_name": "Go (gonb)",
   "language": "go",
   "name": "gonb"
  },
  "language_info": {
   "name": "go"
  }
 },
 "nbformat": 4,
 "nbformat_minor": 5
}
